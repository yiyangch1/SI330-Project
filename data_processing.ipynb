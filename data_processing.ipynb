{
 "cells": [
  {
   "source": [
    "### Clean covid data \n",
    "\n",
    "1. get the covid data from api and read it in using pandas\n",
    "\n",
    "2. subset the dataset to keep rows with the last available date (as the data is cumulative)\n",
    "\n",
    "3. clean state names using an apply function and select five columns that will be used for our analysis ('state','positive','hospitalizedCumulative','death','totalTestResults')\n",
    "\n",
    "4. store the data frame as covid_cumulative"
   ],
   "cell_type": "markdown",
   "metadata": {}
  },
  {
   "cell_type": "code",
   "execution_count": 1,
   "metadata": {},
   "outputs": [],
   "source": [
    "import json\n",
    "import requests\n",
    "import pandas as pd\n",
    "import numpy as np\n",
    "r = requests.get('https://api.covidtracking.com/v1/states/daily.json')\n",
    "read_states = r.json()\n",
    "states_covid_daily = pd.DataFrame(read_states)\n",
    "states_covid_daily=states_covid_daily[states_covid_daily['date']==20210307]\n",
    "\n",
    "def clean_state_name(state_acroname):\n",
    "        state= {\n",
    "        'AL': 'Alabama',\n",
    "        'AK': 'Alaska',\n",
    "        'AS': 'American Samoa',\n",
    "        'AZ': 'Arizona',\n",
    "        'AR': 'Arkansas',\n",
    "        'CA': 'California',\n",
    "        'CO': 'Colorado',\n",
    "        'CT': 'Connecticut',\n",
    "        'DE': 'Delaware',\n",
    "        'DC': 'District of Columbia',\n",
    "        'FL': 'Florida',\n",
    "        'GA': 'Georgia',\n",
    "        'GU': 'Guam',\n",
    "        'HI': 'Hawaii',\n",
    "        'ID': 'Idaho',\n",
    "        'IL': 'Illinois',\n",
    "        'IN': 'Indiana',\n",
    "        'IA': 'Iowa',\n",
    "        'KS': 'Kansas',\n",
    "        'KY': 'Kentucky',\n",
    "        'LA': 'Louisiana',\n",
    "        'ME': 'Maine',\n",
    "        'MD': 'Maryland',\n",
    "        'MA': 'Massachusetts',\n",
    "        'MI': 'Michigan',\n",
    "        'MN': 'Minnesota',\n",
    "        'MS': 'Mississippi',\n",
    "        'MO': 'Missouri',\n",
    "        'MT': 'Montana',\n",
    "        'NE': 'Nebraska',\n",
    "        'NV': 'Nevada',\n",
    "        'NH': 'New Hampshire',\n",
    "        'NJ': 'New Jersey',\n",
    "        'NM': 'New Mexico',\n",
    "        'NY': 'New York',\n",
    "        'NC': 'North Carolina',\n",
    "        'ND': 'North Dakota',\n",
    "        'MP':'Northern Mariana Islands',\n",
    "        'OH': 'Ohio',\n",
    "        'OK': 'Oklahoma',\n",
    "        'OR': 'Oregon',\n",
    "        'PA': 'Pennsylvania',\n",
    "        'PR': 'Puerto Rico',\n",
    "        'RI': 'Rhode Island',\n",
    "        'SC': 'South Carolina',\n",
    "        'SD': 'South Dakota',\n",
    "        'TN': 'Tennessee',\n",
    "        'TX': 'Texas',\n",
    "        'UT': 'Utah',\n",
    "        'VT': 'Vermont',\n",
    "        'VI': 'Virgin Islands',\n",
    "        'VA': 'Virginia',\n",
    "        'WA': 'Washington',\n",
    "        'WV': 'West Virginia',\n",
    "        'WI': 'Wisconsin',\n",
    "        'WY': 'Wyoming'}\n",
    "        if state_acroname in state:\n",
    "            return state[state_acroname]\n",
    "        else:\n",
    "            return state_acroname\n",
    "        \n",
    "states_covid_daily['state']=states_covid_daily['state'].apply(clean_state_name)\n",
    "covid_cumulative=states_covid_daily[['state','positive','hospitalizedCumulative','death','totalTestResults']]\n"
   ]
  },
  {
   "cell_type": "markdown",
   "metadata": {},
   "source": [
    "### Clean population data\n",
    "\n",
    "1. read in the population file(in excel format), adjust column names, and drop NaNs\n",
    "\n",
    "2. clean values in state column using an apply function"
   ]
  },
  {
   "cell_type": "code",
   "execution_count": 2,
   "metadata": {},
   "outputs": [
    {
     "output_type": "execute_result",
     "data": {
      "text/plain": [
       "           state  2019population\n",
       "0  United States     328239523.0\n",
       "1      Northeast      55982803.0\n",
       "2        Midwest      68329004.0\n",
       "3          South     125580448.0\n",
       "4           West      78347268.0"
      ],
      "text/html": "<div>\n<style scoped>\n    .dataframe tbody tr th:only-of-type {\n        vertical-align: middle;\n    }\n\n    .dataframe tbody tr th {\n        vertical-align: top;\n    }\n\n    .dataframe thead th {\n        text-align: right;\n    }\n</style>\n<table border=\"1\" class=\"dataframe\">\n  <thead>\n    <tr style=\"text-align: right;\">\n      <th></th>\n      <th>state</th>\n      <th>2019population</th>\n    </tr>\n  </thead>\n  <tbody>\n    <tr>\n      <th>0</th>\n      <td>United States</td>\n      <td>328239523.0</td>\n    </tr>\n    <tr>\n      <th>1</th>\n      <td>Northeast</td>\n      <td>55982803.0</td>\n    </tr>\n    <tr>\n      <th>2</th>\n      <td>Midwest</td>\n      <td>68329004.0</td>\n    </tr>\n    <tr>\n      <th>3</th>\n      <td>South</td>\n      <td>125580448.0</td>\n    </tr>\n    <tr>\n      <th>4</th>\n      <td>West</td>\n      <td>78347268.0</td>\n    </tr>\n  </tbody>\n</table>\n</div>"
     },
     "metadata": {},
     "execution_count": 2
    }
   ],
   "source": [
    "df_population=pd.read_excel(\"population.xlsx\",header=[1],skiprows=[0,1,-1])\n",
    "df_population=df_population.rename(columns = {'Unnamed: 0':'state',2019:'2019population'})\n",
    "df_population=df_population[['state', '2019population']].dropna()\n",
    "def replacing(state):\n",
    "    state=state.replace('.','')\n",
    "    return state\n",
    "df_population['state']=df_population['state'].apply(replacing)\n",
    "\n",
    "df_population.head()"
   ]
  },
  {
   "cell_type": "markdown",
   "metadata": {},
   "source": [
    "### Merging and ratio calculation\n",
    "\n",
    "1. merge the two datasets together on 'state' column\n",
    "\n",
    "2. calculate three ratios respectively \n",
    "\n",
    "### We will calculate four ratios using the equations listed below\n",
    "1. Death rate = 'death' / 'positive'\n",
    "2. Hospitalized rate = 'hospitalizedCumulative' / 'positive'\n",
    "3. Infection rate = 'positive' / 'population' (from population dataset)\n",
    "4. Test rate = 'totalTestResults' () / 'population' (from population dataset)"
   ]
  },
  {
   "cell_type": "code",
   "execution_count": 3,
   "metadata": {},
   "outputs": [
    {
     "output_type": "execute_result",
     "data": {
      "text/plain": [
       "        state  2019population   positive  hospitalizedCumulative    death  \\\n",
       "0     Alabama       4903185.0   499819.0                 45976.0  10148.0   \n",
       "1      Alaska        731545.0    56886.0                  1293.0    305.0   \n",
       "2     Arizona       7278717.0   826454.0                 57907.0  16328.0   \n",
       "3    Arkansas       3017804.0   324818.0                 14926.0   5319.0   \n",
       "4  California      39512223.0  3501394.0                     NaN  54124.0   \n",
       "\n",
       "   totalTestResults  infection_rate  death_rate  test_rate  hospitalized_rate  \n",
       "0         2323788.0        0.101938    0.020303   0.473934           0.091985  \n",
       "1         1731628.0        0.077761    0.005362   2.367083           0.022730  \n",
       "2         7908105.0        0.113544    0.019757   1.086470           0.070067  \n",
       "3         2736442.0        0.107634    0.016375   0.906766           0.045952  \n",
       "4        49646014.0        0.088615    0.015458   1.256472                NaN  "
      ],
      "text/html": "<div>\n<style scoped>\n    .dataframe tbody tr th:only-of-type {\n        vertical-align: middle;\n    }\n\n    .dataframe tbody tr th {\n        vertical-align: top;\n    }\n\n    .dataframe thead th {\n        text-align: right;\n    }\n</style>\n<table border=\"1\" class=\"dataframe\">\n  <thead>\n    <tr style=\"text-align: right;\">\n      <th></th>\n      <th>state</th>\n      <th>2019population</th>\n      <th>positive</th>\n      <th>hospitalizedCumulative</th>\n      <th>death</th>\n      <th>totalTestResults</th>\n      <th>infection_rate</th>\n      <th>death_rate</th>\n      <th>test_rate</th>\n      <th>hospitalized_rate</th>\n    </tr>\n  </thead>\n  <tbody>\n    <tr>\n      <th>0</th>\n      <td>Alabama</td>\n      <td>4903185.0</td>\n      <td>499819.0</td>\n      <td>45976.0</td>\n      <td>10148.0</td>\n      <td>2323788.0</td>\n      <td>0.101938</td>\n      <td>0.020303</td>\n      <td>0.473934</td>\n      <td>0.091985</td>\n    </tr>\n    <tr>\n      <th>1</th>\n      <td>Alaska</td>\n      <td>731545.0</td>\n      <td>56886.0</td>\n      <td>1293.0</td>\n      <td>305.0</td>\n      <td>1731628.0</td>\n      <td>0.077761</td>\n      <td>0.005362</td>\n      <td>2.367083</td>\n      <td>0.022730</td>\n    </tr>\n    <tr>\n      <th>2</th>\n      <td>Arizona</td>\n      <td>7278717.0</td>\n      <td>826454.0</td>\n      <td>57907.0</td>\n      <td>16328.0</td>\n      <td>7908105.0</td>\n      <td>0.113544</td>\n      <td>0.019757</td>\n      <td>1.086470</td>\n      <td>0.070067</td>\n    </tr>\n    <tr>\n      <th>3</th>\n      <td>Arkansas</td>\n      <td>3017804.0</td>\n      <td>324818.0</td>\n      <td>14926.0</td>\n      <td>5319.0</td>\n      <td>2736442.0</td>\n      <td>0.107634</td>\n      <td>0.016375</td>\n      <td>0.906766</td>\n      <td>0.045952</td>\n    </tr>\n    <tr>\n      <th>4</th>\n      <td>California</td>\n      <td>39512223.0</td>\n      <td>3501394.0</td>\n      <td>NaN</td>\n      <td>54124.0</td>\n      <td>49646014.0</td>\n      <td>0.088615</td>\n      <td>0.015458</td>\n      <td>1.256472</td>\n      <td>NaN</td>\n    </tr>\n  </tbody>\n</table>\n</div>"
     },
     "metadata": {},
     "execution_count": 3
    }
   ],
   "source": [
    "Covid_and_population=pd.merge(df_population,covid_cumulative,how='inner',on='state')\n",
    "Covid_and_population['infection_rate']=Covid_and_population['positive']/Covid_and_population['2019population']\n",
    "Covid_and_population['death_rate']=Covid_and_population['death']/Covid_and_population['positive']\n",
    "Covid_and_population['test_rate']=Covid_and_population['totalTestResults']/Covid_and_population['2019population']\n",
    "Covid_and_population['hospitalized_rate']=Covid_and_population['hospitalizedCumulative']/Covid_and_population['positive']\n",
    "# Covid_and_population['hospitalized_rate'].fillna(value=np.(Covid_and_population['hospitalized_rate']), inplace=True)\n",
    "Covid_and_population.head()"
   ]
  },
  {
   "source": [
    "### Calculate the final score\n",
    "\n",
    "1. using qcut to assgin each state into 4 quartiles respectively\n",
    "\n",
    "2. assign each quartile with different scores using an apply function and store the final_score in a new column\n",
    "\n",
    "3. export the data frame as a csv file for further analysis and visualization"
   ],
   "cell_type": "markdown",
   "metadata": {}
  },
  {
   "cell_type": "code",
   "execution_count": 4,
   "metadata": {},
   "outputs": [],
   "source": [
    "labels = pd.Categorical(['lowest25%','50%-75%','''25%-50%''','top25%'],ordered=True)\n",
    "\n",
    "Covid_and_population['infection_rank'] = pd.qcut(Covid_and_population['infection_rate'], 4, labels = labels)\n",
    "Covid_and_population['death_rank'] = pd.qcut(Covid_and_population['death_rate'], 4, labels=labels)\n",
    "Covid_and_population['test_rank'] = pd.qcut(Covid_and_population['test_rate'], 4,labels=labels)\n",
    "\n",
    "def final_score(row):\n",
    "    score = int()\n",
    "    if row[-1]=='top25%':\n",
    "        score += 100\n",
    "    elif row[-1]=='25%-50%':\n",
    "        score += 75\n",
    "    elif row[-1]=='50%-75%':\n",
    "        score += 50\n",
    "    elif row[-1]=='lowest25%':\n",
    "        score += 25\n",
    "    if row[-2]=='top25%':\n",
    "        score += 25\n",
    "    elif row[-2]=='25%-50%':\n",
    "        score += 50\n",
    "    elif row[-2]=='50%-75%':\n",
    "        score += 75\n",
    "    elif row[-2]=='lowest25%':\n",
    "        score += 100\n",
    "    if  row[-3]=='top25%':\n",
    "        score += 25\n",
    "    elif row[-3]=='25%-50%':\n",
    "        score += 50\n",
    "    elif row[-3]=='50%-75%':\n",
    "        score += 75\n",
    "    elif row[-3]=='lowest25%':\n",
    "        score += 100\n",
    "    return score\n",
    "\n",
    "Covid_and_population['final_score'] = Covid_and_population.apply(final_score, axis=1)\n",
    "Covid_and_population['final_score']\n",
    "Covid_and_population=Covid_and_population.sort_values(['final_score','infection_rate'],ascending=False)\n",
    "Covid_and_population=Covid_and_population.reset_index().drop('index',axis=1)\n",
    "Covid_and_population.index+=1\n",
    "Covid_and_population.to_csv('output.csv')"
   ]
  }
 ],
 "metadata": {
  "kernelspec": {
   "name": "python383jvsc74a57bd0a9a7733d29fe82823ad7a941e379d4d2e27a9cd3fdeee9286fae992538d5ea67",
   "display_name": "Python 3.8.3 64-bit ('base': conda)"
  },
  "language_info": {
   "codemirror_mode": {
    "name": "ipython",
    "version": 3
   },
   "file_extension": ".py",
   "mimetype": "text/x-python",
   "name": "python",
   "nbconvert_exporter": "python",
   "pygments_lexer": "ipython3",
   "version": "3.8.3"
  }
 },
 "nbformat": 4,
 "nbformat_minor": 4
}