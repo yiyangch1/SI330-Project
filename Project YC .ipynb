{
 "cells": [
  {
   "cell_type": "markdown",
   "metadata": {},
   "source": [
    "CLean all-state-population file"
   ]
  },
  {
   "cell_type": "code",
   "execution_count": 1,
   "metadata": {},
   "outputs": [
    {
     "output_type": "execute_result",
     "data": {
      "text/plain": [
       "           state  2019population\n",
       "0  United States     328239523.0\n",
       "1      Northeast      55982803.0\n",
       "2        Midwest      68329004.0\n",
       "3          South     125580448.0\n",
       "4           West      78347268.0"
      ],
      "text/html": "<div>\n<style scoped>\n    .dataframe tbody tr th:only-of-type {\n        vertical-align: middle;\n    }\n\n    .dataframe tbody tr th {\n        vertical-align: top;\n    }\n\n    .dataframe thead th {\n        text-align: right;\n    }\n</style>\n<table border=\"1\" class=\"dataframe\">\n  <thead>\n    <tr style=\"text-align: right;\">\n      <th></th>\n      <th>state</th>\n      <th>2019population</th>\n    </tr>\n  </thead>\n  <tbody>\n    <tr>\n      <th>0</th>\n      <td>United States</td>\n      <td>328239523.0</td>\n    </tr>\n    <tr>\n      <th>1</th>\n      <td>Northeast</td>\n      <td>55982803.0</td>\n    </tr>\n    <tr>\n      <th>2</th>\n      <td>Midwest</td>\n      <td>68329004.0</td>\n    </tr>\n    <tr>\n      <th>3</th>\n      <td>South</td>\n      <td>125580448.0</td>\n    </tr>\n    <tr>\n      <th>4</th>\n      <td>West</td>\n      <td>78347268.0</td>\n    </tr>\n  </tbody>\n</table>\n</div>"
     },
     "metadata": {},
     "execution_count": 1
    }
   ],
   "source": [
    "import pandas as pd\n",
    "df_population=pd.read_excel(\"population.xlsx\",header=[1],skiprows=[0,1,-1])\n",
    "df_population=df_population.rename(columns = {'Unnamed: 0':'state',2019:'2019population'})\n",
    "df_population=df_population[['state', '2019population']].dropna()\n",
    "def replacing(state):\n",
    "    state=state.replace('.','')\n",
    "    return state\n",
    "df_population['state']=df_population['state'].apply(replacing)\n",
    "\n",
    "df_population.head()"
   ]
  },
  {
   "cell_type": "code",
   "execution_count": null,
   "metadata": {},
   "outputs": [],
   "source": []
  }
 ],
 "metadata": {
  "kernelspec": {
   "name": "python383jvsc74a57bd0a9a7733d29fe82823ad7a941e379d4d2e27a9cd3fdeee9286fae992538d5ea67",
   "display_name": "Python 3.8.3 64-bit ('base': conda)"
  },
  "language_info": {
   "codemirror_mode": {
    "name": "ipython",
    "version": 3
   },
   "file_extension": ".py",
   "mimetype": "text/x-python",
   "name": "python",
   "nbconvert_exporter": "python",
   "pygments_lexer": "ipython3",
   "version": "3.8.3"
  }
 },
 "nbformat": 4,
 "nbformat_minor": 4
}