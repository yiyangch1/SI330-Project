{
 "cells": [
  {
   "cell_type": "code",
   "execution_count": 1,
   "metadata": {},
   "outputs": [
    {
     "output_type": "execute_result",
     "data": {
      "text/plain": [
       "           date state  positive  probableCases   negative  pending  \\\n",
       "0      20210307    AK   56886.0            NaN        NaN      NaN   \n",
       "1      20210307    AL  499819.0       107742.0  1931711.0      NaN   \n",
       "2      20210307    AR  324818.0        69092.0  2480716.0      NaN   \n",
       "3      20210307    AS       0.0            NaN     2140.0      NaN   \n",
       "4      20210307    AZ  826454.0        56519.0  3073010.0      NaN   \n",
       "...         ...   ...       ...            ...        ...      ...   \n",
       "20775  20200117    WA       0.0            NaN        NaN      NaN   \n",
       "20776  20200116    WA       0.0            NaN        NaN      NaN   \n",
       "20777  20200115    WA       0.0            NaN        NaN      NaN   \n",
       "20778  20200114    WA       0.0            NaN        NaN      NaN   \n",
       "20779  20200113    WA       NaN            NaN        NaN      NaN   \n",
       "\n",
       "         totalTestResultsSource  totalTestResults  hospitalizedCurrently  \\\n",
       "0               totalTestsViral         1731628.0                   33.0   \n",
       "1         totalTestsPeopleViral         2323788.0                  494.0   \n",
       "2               totalTestsViral         2736442.0                  335.0   \n",
       "3               totalTestsViral            2140.0                    NaN   \n",
       "4               totalTestsViral         7908105.0                  963.0   \n",
       "...                         ...               ...                    ...   \n",
       "20775  totalTestEncountersViral               NaN                    NaN   \n",
       "20776  totalTestEncountersViral               NaN                    NaN   \n",
       "20777  totalTestEncountersViral               NaN                    NaN   \n",
       "20778  totalTestEncountersViral               NaN                    NaN   \n",
       "20779  totalTestEncountersViral               NaN                    NaN   \n",
       "\n",
       "       hospitalizedCumulative  ...  dataQualityGrade  deathIncrease  \\\n",
       "0                      1293.0  ...              None              0   \n",
       "1                     45976.0  ...              None             -1   \n",
       "2                     14926.0  ...              None             22   \n",
       "3                         NaN  ...              None              0   \n",
       "4                     57907.0  ...              None              5   \n",
       "...                       ...  ...               ...            ...   \n",
       "20775                     NaN  ...              None              0   \n",
       "20776                     NaN  ...              None              0   \n",
       "20777                     NaN  ...              None              0   \n",
       "20778                     NaN  ...              None              0   \n",
       "20779                     NaN  ...              None              0   \n",
       "\n",
       "       hospitalizedIncrease                                      hash  \\\n",
       "0                         0  dc4bccd4bb885349d7e94d6fed058e285d4be164   \n",
       "1                         0  997207b430824ea40b8eb8506c19a93e07bc972e   \n",
       "2                        11  50921aeefba3e30d31623aa495b47fb2ecc72fae   \n",
       "3                         0  96d23f888c995b9a7f3b4b864de6414f45c728ff   \n",
       "4                        44  0437a7a96f4471666f775e63e86923eb5cbd8cdf   \n",
       "...                     ...                                       ...   \n",
       "20775                     0  7cefac6b3681020741ca30f45399a7b22f2e45b4   \n",
       "20776                     0  650501e005a5ee86d93c5f32dda56735ea2af967   \n",
       "20777                     0  4987e61aad88182abfe641033b597304c2153d4f   \n",
       "20778                     0  1881c8a2f0d337b22066b4f05df06eb2259e8d57   \n",
       "20779                     0  12b994ad07c276a5278a2465e081751688739765   \n",
       "\n",
       "       commercialScore negativeRegularScore negativeScore positiveScore  \\\n",
       "0                    0                    0             0             0   \n",
       "1                    0                    0             0             0   \n",
       "2                    0                    0             0             0   \n",
       "3                    0                    0             0             0   \n",
       "4                    0                    0             0             0   \n",
       "...                ...                  ...           ...           ...   \n",
       "20775                0                    0             0             0   \n",
       "20776                0                    0             0             0   \n",
       "20777                0                    0             0             0   \n",
       "20778                0                    0             0             0   \n",
       "20779                0                    0             0             0   \n",
       "\n",
       "       score  grade  \n",
       "0          0         \n",
       "1          0         \n",
       "2          0         \n",
       "3          0         \n",
       "4          0         \n",
       "...      ...    ...  \n",
       "20775      0         \n",
       "20776      0         \n",
       "20777      0         \n",
       "20778      0         \n",
       "20779      0         \n",
       "\n",
       "[20780 rows x 56 columns]"
      ],
      "text/html": "<div>\n<style scoped>\n    .dataframe tbody tr th:only-of-type {\n        vertical-align: middle;\n    }\n\n    .dataframe tbody tr th {\n        vertical-align: top;\n    }\n\n    .dataframe thead th {\n        text-align: right;\n    }\n</style>\n<table border=\"1\" class=\"dataframe\">\n  <thead>\n    <tr style=\"text-align: right;\">\n      <th></th>\n      <th>date</th>\n      <th>state</th>\n      <th>positive</th>\n      <th>probableCases</th>\n      <th>negative</th>\n      <th>pending</th>\n      <th>totalTestResultsSource</th>\n      <th>totalTestResults</th>\n      <th>hospitalizedCurrently</th>\n      <th>hospitalizedCumulative</th>\n      <th>...</th>\n      <th>dataQualityGrade</th>\n      <th>deathIncrease</th>\n      <th>hospitalizedIncrease</th>\n      <th>hash</th>\n      <th>commercialScore</th>\n      <th>negativeRegularScore</th>\n      <th>negativeScore</th>\n      <th>positiveScore</th>\n      <th>score</th>\n      <th>grade</th>\n    </tr>\n  </thead>\n  <tbody>\n    <tr>\n      <th>0</th>\n      <td>20210307</td>\n      <td>AK</td>\n      <td>56886.0</td>\n      <td>NaN</td>\n      <td>NaN</td>\n      <td>NaN</td>\n      <td>totalTestsViral</td>\n      <td>1731628.0</td>\n      <td>33.0</td>\n      <td>1293.0</td>\n      <td>...</td>\n      <td>None</td>\n      <td>0</td>\n      <td>0</td>\n      <td>dc4bccd4bb885349d7e94d6fed058e285d4be164</td>\n      <td>0</td>\n      <td>0</td>\n      <td>0</td>\n      <td>0</td>\n      <td>0</td>\n      <td></td>\n    </tr>\n    <tr>\n      <th>1</th>\n      <td>20210307</td>\n      <td>AL</td>\n      <td>499819.0</td>\n      <td>107742.0</td>\n      <td>1931711.0</td>\n      <td>NaN</td>\n      <td>totalTestsPeopleViral</td>\n      <td>2323788.0</td>\n      <td>494.0</td>\n      <td>45976.0</td>\n      <td>...</td>\n      <td>None</td>\n      <td>-1</td>\n      <td>0</td>\n      <td>997207b430824ea40b8eb8506c19a93e07bc972e</td>\n      <td>0</td>\n      <td>0</td>\n      <td>0</td>\n      <td>0</td>\n      <td>0</td>\n      <td></td>\n    </tr>\n    <tr>\n      <th>2</th>\n      <td>20210307</td>\n      <td>AR</td>\n      <td>324818.0</td>\n      <td>69092.0</td>\n      <td>2480716.0</td>\n      <td>NaN</td>\n      <td>totalTestsViral</td>\n      <td>2736442.0</td>\n      <td>335.0</td>\n      <td>14926.0</td>\n      <td>...</td>\n      <td>None</td>\n      <td>22</td>\n      <td>11</td>\n      <td>50921aeefba3e30d31623aa495b47fb2ecc72fae</td>\n      <td>0</td>\n      <td>0</td>\n      <td>0</td>\n      <td>0</td>\n      <td>0</td>\n      <td></td>\n    </tr>\n    <tr>\n      <th>3</th>\n      <td>20210307</td>\n      <td>AS</td>\n      <td>0.0</td>\n      <td>NaN</td>\n      <td>2140.0</td>\n      <td>NaN</td>\n      <td>totalTestsViral</td>\n      <td>2140.0</td>\n      <td>NaN</td>\n      <td>NaN</td>\n      <td>...</td>\n      <td>None</td>\n      <td>0</td>\n      <td>0</td>\n      <td>96d23f888c995b9a7f3b4b864de6414f45c728ff</td>\n      <td>0</td>\n      <td>0</td>\n      <td>0</td>\n      <td>0</td>\n      <td>0</td>\n      <td></td>\n    </tr>\n    <tr>\n      <th>4</th>\n      <td>20210307</td>\n      <td>AZ</td>\n      <td>826454.0</td>\n      <td>56519.0</td>\n      <td>3073010.0</td>\n      <td>NaN</td>\n      <td>totalTestsViral</td>\n      <td>7908105.0</td>\n      <td>963.0</td>\n      <td>57907.0</td>\n      <td>...</td>\n      <td>None</td>\n      <td>5</td>\n      <td>44</td>\n      <td>0437a7a96f4471666f775e63e86923eb5cbd8cdf</td>\n      <td>0</td>\n      <td>0</td>\n      <td>0</td>\n      <td>0</td>\n      <td>0</td>\n      <td></td>\n    </tr>\n    <tr>\n      <th>...</th>\n      <td>...</td>\n      <td>...</td>\n      <td>...</td>\n      <td>...</td>\n      <td>...</td>\n      <td>...</td>\n      <td>...</td>\n      <td>...</td>\n      <td>...</td>\n      <td>...</td>\n      <td>...</td>\n      <td>...</td>\n      <td>...</td>\n      <td>...</td>\n      <td>...</td>\n      <td>...</td>\n      <td>...</td>\n      <td>...</td>\n      <td>...</td>\n      <td>...</td>\n      <td>...</td>\n    </tr>\n    <tr>\n      <th>20775</th>\n      <td>20200117</td>\n      <td>WA</td>\n      <td>0.0</td>\n      <td>NaN</td>\n      <td>NaN</td>\n      <td>NaN</td>\n      <td>totalTestEncountersViral</td>\n      <td>NaN</td>\n      <td>NaN</td>\n      <td>NaN</td>\n      <td>...</td>\n      <td>None</td>\n      <td>0</td>\n      <td>0</td>\n      <td>7cefac6b3681020741ca30f45399a7b22f2e45b4</td>\n      <td>0</td>\n      <td>0</td>\n      <td>0</td>\n      <td>0</td>\n      <td>0</td>\n      <td></td>\n    </tr>\n    <tr>\n      <th>20776</th>\n      <td>20200116</td>\n      <td>WA</td>\n      <td>0.0</td>\n      <td>NaN</td>\n      <td>NaN</td>\n      <td>NaN</td>\n      <td>totalTestEncountersViral</td>\n      <td>NaN</td>\n      <td>NaN</td>\n      <td>NaN</td>\n      <td>...</td>\n      <td>None</td>\n      <td>0</td>\n      <td>0</td>\n      <td>650501e005a5ee86d93c5f32dda56735ea2af967</td>\n      <td>0</td>\n      <td>0</td>\n      <td>0</td>\n      <td>0</td>\n      <td>0</td>\n      <td></td>\n    </tr>\n    <tr>\n      <th>20777</th>\n      <td>20200115</td>\n      <td>WA</td>\n      <td>0.0</td>\n      <td>NaN</td>\n      <td>NaN</td>\n      <td>NaN</td>\n      <td>totalTestEncountersViral</td>\n      <td>NaN</td>\n      <td>NaN</td>\n      <td>NaN</td>\n      <td>...</td>\n      <td>None</td>\n      <td>0</td>\n      <td>0</td>\n      <td>4987e61aad88182abfe641033b597304c2153d4f</td>\n      <td>0</td>\n      <td>0</td>\n      <td>0</td>\n      <td>0</td>\n      <td>0</td>\n      <td></td>\n    </tr>\n    <tr>\n      <th>20778</th>\n      <td>20200114</td>\n      <td>WA</td>\n      <td>0.0</td>\n      <td>NaN</td>\n      <td>NaN</td>\n      <td>NaN</td>\n      <td>totalTestEncountersViral</td>\n      <td>NaN</td>\n      <td>NaN</td>\n      <td>NaN</td>\n      <td>...</td>\n      <td>None</td>\n      <td>0</td>\n      <td>0</td>\n      <td>1881c8a2f0d337b22066b4f05df06eb2259e8d57</td>\n      <td>0</td>\n      <td>0</td>\n      <td>0</td>\n      <td>0</td>\n      <td>0</td>\n      <td></td>\n    </tr>\n    <tr>\n      <th>20779</th>\n      <td>20200113</td>\n      <td>WA</td>\n      <td>NaN</td>\n      <td>NaN</td>\n      <td>NaN</td>\n      <td>NaN</td>\n      <td>totalTestEncountersViral</td>\n      <td>NaN</td>\n      <td>NaN</td>\n      <td>NaN</td>\n      <td>...</td>\n      <td>None</td>\n      <td>0</td>\n      <td>0</td>\n      <td>12b994ad07c276a5278a2465e081751688739765</td>\n      <td>0</td>\n      <td>0</td>\n      <td>0</td>\n      <td>0</td>\n      <td>0</td>\n      <td></td>\n    </tr>\n  </tbody>\n</table>\n<p>20780 rows × 56 columns</p>\n</div>"
     },
     "metadata": {},
     "execution_count": 1
    }
   ],
   "source": [
    "import json\n",
    "import requests\n",
    "import pandas as pd\n",
    "r = requests.get('https://api.covidtracking.com/v1/states/daily.json')\n",
    "read_states = r.json()\n",
    "states_covid_daily = pd.DataFrame(read_states)\n",
    "states_covid_daily"
   ]
  },
  {
   "cell_type": "code",
   "execution_count": 3,
   "metadata": {},
   "outputs": [
    {
     "output_type": "execute_result",
     "data": {
      "text/plain": [
       "Index(['date', 'state', 'positive', 'probableCases', 'negative', 'pending',\n",
       "       'totalTestResultsSource', 'totalTestResults', 'hospitalizedCurrently',\n",
       "       'hospitalizedCumulative', 'inIcuCurrently', 'inIcuCumulative',\n",
       "       'onVentilatorCurrently', 'onVentilatorCumulative', 'recovered',\n",
       "       'lastUpdateEt', 'dateModified', 'checkTimeEt', 'death', 'hospitalized',\n",
       "       'hospitalizedDischarged', 'dateChecked', 'totalTestsViral',\n",
       "       'positiveTestsViral', 'negativeTestsViral', 'positiveCasesViral',\n",
       "       'deathConfirmed', 'deathProbable', 'totalTestEncountersViral',\n",
       "       'totalTestsPeopleViral', 'totalTestsAntibody', 'positiveTestsAntibody',\n",
       "       'negativeTestsAntibody', 'totalTestsPeopleAntibody',\n",
       "       'positiveTestsPeopleAntibody', 'negativeTestsPeopleAntibody',\n",
       "       'totalTestsPeopleAntigen', 'positiveTestsPeopleAntigen',\n",
       "       'totalTestsAntigen', 'positiveTestsAntigen', 'fips', 'positiveIncrease',\n",
       "       'negativeIncrease', 'total', 'totalTestResultsIncrease', 'posNeg',\n",
       "       'dataQualityGrade', 'deathIncrease', 'hospitalizedIncrease', 'hash',\n",
       "       'commercialScore', 'negativeRegularScore', 'negativeScore',\n",
       "       'positiveScore', 'score', 'grade'],\n",
       "      dtype='object')"
      ]
     },
     "metadata": {},
     "execution_count": 3
    }
   ],
   "source": [
    "states_covid_daily.columns"
   ]
  },
  {
   "cell_type": "code",
   "execution_count": 29,
   "metadata": {},
   "outputs": [
    {
     "output_type": "execute_result",
     "data": {
      "text/plain": [
       "       date state  positive  probableCases   negative  pending  \\\n",
       "0  20210307    AK   56886.0            NaN        NaN      NaN   \n",
       "1  20210307    AL  499819.0       107742.0  1931711.0      NaN   \n",
       "2  20210307    AR  324818.0        69092.0  2480716.0      NaN   \n",
       "3  20210307    AS       0.0            NaN     2140.0      NaN   \n",
       "4  20210307    AZ  826454.0        56519.0  3073010.0      NaN   \n",
       "\n",
       "  totalTestResultsSource  totalTestResults  hospitalizedCurrently  \\\n",
       "0        totalTestsViral         1731628.0                   33.0   \n",
       "1  totalTestsPeopleViral         2323788.0                  494.0   \n",
       "2        totalTestsViral         2736442.0                  335.0   \n",
       "3        totalTestsViral            2140.0                    NaN   \n",
       "4        totalTestsViral         7908105.0                  963.0   \n",
       "\n",
       "   hospitalizedCumulative  ...  dataQualityGrade  deathIncrease  \\\n",
       "0                  1293.0  ...              None              0   \n",
       "1                 45976.0  ...              None             -1   \n",
       "2                 14926.0  ...              None             22   \n",
       "3                     NaN  ...              None              0   \n",
       "4                 57907.0  ...              None              5   \n",
       "\n",
       "   hospitalizedIncrease                                      hash  \\\n",
       "0                     0  dc4bccd4bb885349d7e94d6fed058e285d4be164   \n",
       "1                     0  997207b430824ea40b8eb8506c19a93e07bc972e   \n",
       "2                    11  50921aeefba3e30d31623aa495b47fb2ecc72fae   \n",
       "3                     0  96d23f888c995b9a7f3b4b864de6414f45c728ff   \n",
       "4                    44  0437a7a96f4471666f775e63e86923eb5cbd8cdf   \n",
       "\n",
       "   commercialScore negativeRegularScore negativeScore positiveScore  score  \\\n",
       "0                0                    0             0             0      0   \n",
       "1                0                    0             0             0      0   \n",
       "2                0                    0             0             0      0   \n",
       "3                0                    0             0             0      0   \n",
       "4                0                    0             0             0      0   \n",
       "\n",
       "   grade  \n",
       "0         \n",
       "1         \n",
       "2         \n",
       "3         \n",
       "4         \n",
       "\n",
       "[5 rows x 56 columns]"
      ],
      "text/html": "<div>\n<style scoped>\n    .dataframe tbody tr th:only-of-type {\n        vertical-align: middle;\n    }\n\n    .dataframe tbody tr th {\n        vertical-align: top;\n    }\n\n    .dataframe thead th {\n        text-align: right;\n    }\n</style>\n<table border=\"1\" class=\"dataframe\">\n  <thead>\n    <tr style=\"text-align: right;\">\n      <th></th>\n      <th>date</th>\n      <th>state</th>\n      <th>positive</th>\n      <th>probableCases</th>\n      <th>negative</th>\n      <th>pending</th>\n      <th>totalTestResultsSource</th>\n      <th>totalTestResults</th>\n      <th>hospitalizedCurrently</th>\n      <th>hospitalizedCumulative</th>\n      <th>...</th>\n      <th>dataQualityGrade</th>\n      <th>deathIncrease</th>\n      <th>hospitalizedIncrease</th>\n      <th>hash</th>\n      <th>commercialScore</th>\n      <th>negativeRegularScore</th>\n      <th>negativeScore</th>\n      <th>positiveScore</th>\n      <th>score</th>\n      <th>grade</th>\n    </tr>\n  </thead>\n  <tbody>\n    <tr>\n      <th>0</th>\n      <td>20210307</td>\n      <td>AK</td>\n      <td>56886.0</td>\n      <td>NaN</td>\n      <td>NaN</td>\n      <td>NaN</td>\n      <td>totalTestsViral</td>\n      <td>1731628.0</td>\n      <td>33.0</td>\n      <td>1293.0</td>\n      <td>...</td>\n      <td>None</td>\n      <td>0</td>\n      <td>0</td>\n      <td>dc4bccd4bb885349d7e94d6fed058e285d4be164</td>\n      <td>0</td>\n      <td>0</td>\n      <td>0</td>\n      <td>0</td>\n      <td>0</td>\n      <td></td>\n    </tr>\n    <tr>\n      <th>1</th>\n      <td>20210307</td>\n      <td>AL</td>\n      <td>499819.0</td>\n      <td>107742.0</td>\n      <td>1931711.0</td>\n      <td>NaN</td>\n      <td>totalTestsPeopleViral</td>\n      <td>2323788.0</td>\n      <td>494.0</td>\n      <td>45976.0</td>\n      <td>...</td>\n      <td>None</td>\n      <td>-1</td>\n      <td>0</td>\n      <td>997207b430824ea40b8eb8506c19a93e07bc972e</td>\n      <td>0</td>\n      <td>0</td>\n      <td>0</td>\n      <td>0</td>\n      <td>0</td>\n      <td></td>\n    </tr>\n    <tr>\n      <th>2</th>\n      <td>20210307</td>\n      <td>AR</td>\n      <td>324818.0</td>\n      <td>69092.0</td>\n      <td>2480716.0</td>\n      <td>NaN</td>\n      <td>totalTestsViral</td>\n      <td>2736442.0</td>\n      <td>335.0</td>\n      <td>14926.0</td>\n      <td>...</td>\n      <td>None</td>\n      <td>22</td>\n      <td>11</td>\n      <td>50921aeefba3e30d31623aa495b47fb2ecc72fae</td>\n      <td>0</td>\n      <td>0</td>\n      <td>0</td>\n      <td>0</td>\n      <td>0</td>\n      <td></td>\n    </tr>\n    <tr>\n      <th>3</th>\n      <td>20210307</td>\n      <td>AS</td>\n      <td>0.0</td>\n      <td>NaN</td>\n      <td>2140.0</td>\n      <td>NaN</td>\n      <td>totalTestsViral</td>\n      <td>2140.0</td>\n      <td>NaN</td>\n      <td>NaN</td>\n      <td>...</td>\n      <td>None</td>\n      <td>0</td>\n      <td>0</td>\n      <td>96d23f888c995b9a7f3b4b864de6414f45c728ff</td>\n      <td>0</td>\n      <td>0</td>\n      <td>0</td>\n      <td>0</td>\n      <td>0</td>\n      <td></td>\n    </tr>\n    <tr>\n      <th>4</th>\n      <td>20210307</td>\n      <td>AZ</td>\n      <td>826454.0</td>\n      <td>56519.0</td>\n      <td>3073010.0</td>\n      <td>NaN</td>\n      <td>totalTestsViral</td>\n      <td>7908105.0</td>\n      <td>963.0</td>\n      <td>57907.0</td>\n      <td>...</td>\n      <td>None</td>\n      <td>5</td>\n      <td>44</td>\n      <td>0437a7a96f4471666f775e63e86923eb5cbd8cdf</td>\n      <td>0</td>\n      <td>0</td>\n      <td>0</td>\n      <td>0</td>\n      <td>0</td>\n      <td></td>\n    </tr>\n  </tbody>\n</table>\n<p>5 rows × 56 columns</p>\n</div>"
     },
     "metadata": {},
     "execution_count": 29
    }
   ],
   "source": [
    "import numpy as np\n",
    "covid = states_covid_daily[states_covid_daily['date'] == 20210307]\n",
    "covid.head()"
   ]
  },
  {
   "source": [
    "## 1. Death rate = 'death' / 'positive'\n",
    "## 2. Hospitalized rate = 'hospitalizedCumulative' / 'positive'\n",
    "## 3. Infection rate = 'positive' / 'population' (from population dataset)\n",
    "## 4. Test rate = 'totalTestResults' () / 'population' (from population dataset)\n",
    "## "
   ],
   "cell_type": "markdown",
   "metadata": {}
  },
  {
   "cell_type": "code",
   "execution_count": 23,
   "metadata": {},
   "outputs": [
    {
     "output_type": "execute_result",
     "data": {
      "text/plain": [
       "7889"
      ]
     },
     "metadata": {},
     "execution_count": 23
    }
   ],
   "source": [
    "states_covid_daily.hospitalizedCumulative.isnull().sum()"
   ]
  },
  {
   "cell_type": "code",
   "execution_count": null,
   "metadata": {},
   "outputs": [],
   "source": []
  }
 ],
 "metadata": {
  "kernelspec": {
   "name": "python383jvsc74a57bd0a9a7733d29fe82823ad7a941e379d4d2e27a9cd3fdeee9286fae992538d5ea67",
   "display_name": "Python 3.8.3 64-bit ('base': conda)"
  },
  "language_info": {
   "codemirror_mode": {
    "name": "ipython",
    "version": 3
   },
   "file_extension": ".py",
   "mimetype": "text/x-python",
   "name": "python",
   "nbconvert_exporter": "python",
   "pygments_lexer": "ipython3",
   "version": "3.8.3"
  }
 },
 "nbformat": 4,
 "nbformat_minor": 4
}